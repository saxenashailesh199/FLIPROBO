{
 "cells": [
  {
   "cell_type": "markdown",
   "metadata": {},
   "source": [
    "# WORKSHEET 2 PYTHON"
   ]
  },
  {
   "cell_type": "markdown",
   "metadata": {},
   "source": [
    "\n",
    "Q1 to Q8 have only one correct answer. Choose the correct option to answer your question. \n",
    "\n",
    "\n",
    "\n",
    "1. Which of the following is not a core datatype in python?\n",
    "\n",
    "A) list     B) struct C) tuple     C) set \n",
    "\n",
    "\n",
    "\n",
    "2. Which of the following is an invalid variable name in python?\n",
    "\n",
    "A) _init_    B) no_1 C) 1_no     D) _1 \n",
    "\n",
    "\n",
    "\n",
    "\n",
    "3. Which one of the following is a keyword in python?\n",
    "\n",
    "A) in     B) _init_ C) on     D) foo \n",
    "\n",
    "\n",
    "\n",
    "4. In which of the following manner are the operators of the same precedence executed in python?\n",
    "\n",
    "A) Left to Right    B) BODMAS C) Right to Left    D) None of these \n",
    "\n",
    "\n",
    "\n",
    "5. Arrange the following in decreasing order of the precedence when they appear in an expression in python? \n",
    "\n",
    "i) Multiplication  ii) Division iii) Exponential  iv) Parentheses\n",
    "\n",
    "A) iii – iv – ii – i    B) iii – iv – i – ii C) iv – iii – ii – i   D) iii – ii – i – iv \n",
    "\n",
    "\n",
    "\n",
    "\n",
    "6. (28//6)**3/3%3 = ?\n",
    "\n",
    "A) 7.1111…    B) 0 C) 0.3333…    D) 1 \n",
    "\n",
    "\n",
    "\n",
    "\n",
    "7. Which of the following is not equal to x16 ? \n",
    "\n",
    "A) x**4**4    B) x**16 C) x^16     D) (x**4)**4 \n",
    "\n",
    "\n",
    "\n",
    "8. a = input(“Enter an integer”). What will be the data type of a? \n",
    "\n",
    "A) int     B) str C) float     D) double \n",
    "\n",
    "\n",
    "\n",
    "Q9 and Q10 have multiple correct answers. Choose all the correct options to answer your question. \n",
    "\n",
    "\n",
    "9. Which of the following statements are correct? \n",
    "\n",
    "A) Division and multiplication have same precedence in python\n",
    "\n",
    "B) Python’s operators’ precedence is based on PEDMAS \n",
    "\n",
    "C) Python’s operators’ precedence is based on VBODMAS \n",
    "\n",
    "D) In case of operators’ having same precedence, the one on the left side is executed first. \n",
    "\n",
    "\n",
    "\n",
    "10. Which of the following is(are) valid statement(s) in python? \n",
    "\n",
    "A) abc = 1,000,000   \n",
    "\n",
    "B) a b c = 1000 2000 3000 \n",
    "\n",
    "C) a,b,c = 1000, 2000, 3000  \n",
    "\n",
    "D) a_b_c = 1,000,000 \n",
    "\n",
    "\n",
    "\n",
    "\n",
    "Q11 to Q13 are subjective questions, answer them briefly \n",
    "\n",
    "11. Differentiate between a list, tuple, set and dictionary. \n",
    "\n",
    "\n",
    "\n",
    "12. Are strings mutable in python? Suppose you have a string “I+Love+Python”, write a small code to replace ‘+’ with space in python. \n",
    "\n",
    "\n",
    "\n",
    "\n",
    "13. What does the function ord() do in python? Explain with example. Also, write down the function for getting the datatype of a variable in python. \n",
    "\n",
    "\n",
    "\n",
    "Q14 and Q15 are programming questions. Answer them in Jupyter Notebook. \n",
    "\n",
    "\n",
    "\n",
    "\n",
    "14. Write a python program to solve a quadratic equation of the form 𝑎𝑥2 + 𝑏𝑥 + 𝑐 = 0. Where a, b and c are to be taken by user input. Handle the erroneous input, such as ‘a’ should not be equal to 0. \n",
    "\n",
    "\n",
    "\n",
    "\n",
    "15. Write a python program to find the sum of first ‘n’ natural numbers without using any loop. Ask user to input the value of ‘n’. "
   ]
  },
  {
   "cell_type": "raw",
   "metadata": {},
   "source": [
    "1. Which of the following is not a core datatype in python?\n",
    "A) list     B) struct C) tuple     C) set"
   ]
  },
  {
   "cell_type": "markdown",
   "metadata": {},
   "source": [
    "ANSWER:-  B) struct"
   ]
  },
  {
   "cell_type": "raw",
   "metadata": {},
   "source": [
    "2. Which of the following is an invalid variable name in python?\n",
    "\n",
    "A) _init_    B) no_1 C) 1_no     D) _1 "
   ]
  },
  {
   "cell_type": "markdown",
   "metadata": {},
   "source": [
    "ANSWER:- C) 1_no"
   ]
  },
  {
   "cell_type": "raw",
   "metadata": {},
   "source": [
    "3. Which one of the following is a keyword in python?\n",
    "\n",
    "A) in     B) _init_ C) on     D) foo "
   ]
  },
  {
   "cell_type": "markdown",
   "metadata": {},
   "source": [
    "ANSWER:-  A) in"
   ]
  },
  {
   "cell_type": "raw",
   "metadata": {},
   "source": [
    "4. In which of the following manner are the operators of the same precedence executed in python?\n",
    "\n",
    "A) Left to Right    B) BODMAS C) Right to Left    D) None of these "
   ]
  },
  {
   "cell_type": "markdown",
   "metadata": {},
   "source": [
    "ANSWER:- A) Left to Right"
   ]
  },
  {
   "cell_type": "raw",
   "metadata": {},
   "source": [
    "5. Arrange the following in decreasing order of the precedence when they appear in an expression in python? \n",
    "\n",
    "i) Multiplication  ii) Division iii) Exponential  iv) Parentheses\n",
    "\n",
    "A) iii – iv – ii – i    B) iii – iv – i – ii C) iv – iii – ii – i   D) iii – ii – i – iv "
   ]
  },
  {
   "cell_type": "markdown",
   "metadata": {},
   "source": [
    "ANSWER:- C) iv – iii – ii – i"
   ]
  },
  {
   "cell_type": "raw",
   "metadata": {},
   "source": [
    "6. (28//6)**3/3%3 = ?\n",
    "\n",
    "A) 7.1111…    B) 0 C) 0.3333…    D) 1 "
   ]
  },
  {
   "cell_type": "raw",
   "metadata": {},
   "source": [
    "ANSWER:- C) 0.3333....."
   ]
  },
  {
   "cell_type": "code",
   "execution_count": 3,
   "metadata": {},
   "outputs": [
    {
     "data": {
      "text/plain": [
       "0.33333333333333215"
      ]
     },
     "execution_count": 3,
     "metadata": {},
     "output_type": "execute_result"
    }
   ],
   "source": [
    "m = (28//6)**3/3%3\n",
    "m"
   ]
  },
  {
   "cell_type": "raw",
   "metadata": {},
   "source": [
    "7. Which of the following is not equal to x16 ? \n",
    "\n",
    "A) x**4**4    B) x**16 C) x^16     D) (x**4)**4 "
   ]
  },
  {
   "cell_type": "raw",
   "metadata": {},
   "source": [
    "ANSWER:- A)x**4**4"
   ]
  },
  {
   "cell_type": "raw",
   "metadata": {},
   "source": [
    "8. a = input(“Enter an integer”). What will be the data type of a? \n",
    "\n",
    "A) int     B) str C) float     D) double"
   ]
  },
  {
   "cell_type": "markdown",
   "metadata": {},
   "source": [
    "ANSWER:- B) str"
   ]
  },
  {
   "cell_type": "raw",
   "metadata": {},
   "source": [
    "9. Which of the following statements are correct? \n",
    "\n",
    "A) Division and multiplication have same precedence in python\n",
    "\n",
    "B) Python’s operators’ precedence is based on PEDMAS \n",
    "\n",
    "C) Python’s operators’ precedence is based on VBODMAS \n",
    "\n",
    "D) In case of operators’ having same precedence, the one on the left side is executed first. "
   ]
  },
  {
   "cell_type": "markdown",
   "metadata": {},
   "source": [
    "ANSWER:-\n",
    "    \n",
    "A) Division and multiplication have same precedence in python\n",
    "    \n",
    "B) Python’s operators’ precedence is based on PEDMAS \n",
    "\n",
    "D) In case of operators’ having same precedence, the one on the left side is executed first."
   ]
  },
  {
   "cell_type": "raw",
   "metadata": {},
   "source": [
    "10. Which of the following is(are) valid statement(s) in python? \n",
    "\n",
    "A) abc = 1,000,000   \n",
    "B) a b c = 1000 2000 3000 \n",
    "C) a,b,c = 1000, 2000, 3000  \n",
    "D) a_b_c = 1,000,000 "
   ]
  },
  {
   "cell_type": "markdown",
   "metadata": {},
   "source": [
    "ANSWER:- \n",
    "\n",
    "A) abc = 1,000,000   \n",
    "\n",
    "C) a,b,c = 1000, 2000, 3000  \n",
    "\n",
    "D) a_b_c = 1,000,000"
   ]
  },
  {
   "cell_type": "code",
   "execution_count": 4,
   "metadata": {},
   "outputs": [
    {
     "data": {
      "text/plain": [
       "(1, 0, 0)"
      ]
     },
     "execution_count": 4,
     "metadata": {},
     "output_type": "execute_result"
    }
   ],
   "source": [
    "abc = 1,000,000\n",
    "abc"
   ]
  },
  {
   "cell_type": "code",
   "execution_count": 5,
   "metadata": {},
   "outputs": [
    {
     "data": {
      "text/plain": [
       "tuple"
      ]
     },
     "execution_count": 5,
     "metadata": {},
     "output_type": "execute_result"
    }
   ],
   "source": [
    "type(abc)"
   ]
  },
  {
   "cell_type": "code",
   "execution_count": 1,
   "metadata": {},
   "outputs": [
    {
     "ename": "SyntaxError",
     "evalue": "invalid syntax (<ipython-input-1-40f0254990fa>, line 1)",
     "output_type": "error",
     "traceback": [
      "\u001b[1;36m  File \u001b[1;32m\"<ipython-input-1-40f0254990fa>\"\u001b[1;36m, line \u001b[1;32m1\u001b[0m\n\u001b[1;33m    a b c = 1000 2000 3000\u001b[0m\n\u001b[1;37m      ^\u001b[0m\n\u001b[1;31mSyntaxError\u001b[0m\u001b[1;31m:\u001b[0m invalid syntax\n"
     ]
    }
   ],
   "source": [
    "a b c = 1000 2000 3000\n",
    "a b c"
   ]
  },
  {
   "cell_type": "code",
   "execution_count": 7,
   "metadata": {},
   "outputs": [
    {
     "data": {
      "text/plain": [
       "(1000, 2000, 3000)"
      ]
     },
     "execution_count": 7,
     "metadata": {},
     "output_type": "execute_result"
    }
   ],
   "source": [
    "a,b,c = 1000, 2000, 3000\n",
    "a,b,c"
   ]
  },
  {
   "cell_type": "code",
   "execution_count": 8,
   "metadata": {},
   "outputs": [
    {
     "data": {
      "text/plain": [
       "int"
      ]
     },
     "execution_count": 8,
     "metadata": {},
     "output_type": "execute_result"
    }
   ],
   "source": [
    "type(a)"
   ]
  },
  {
   "cell_type": "code",
   "execution_count": 9,
   "metadata": {},
   "outputs": [
    {
     "data": {
      "text/plain": [
       "(1, 0, 0)"
      ]
     },
     "execution_count": 9,
     "metadata": {},
     "output_type": "execute_result"
    }
   ],
   "source": [
    "a_b_c = 1,000,000\n",
    "a_b_c"
   ]
  },
  {
   "cell_type": "code",
   "execution_count": 10,
   "metadata": {},
   "outputs": [
    {
     "data": {
      "text/plain": [
       "tuple"
      ]
     },
     "execution_count": 10,
     "metadata": {},
     "output_type": "execute_result"
    }
   ],
   "source": [
    "type(a_b_c)"
   ]
  },
  {
   "cell_type": "raw",
   "metadata": {},
   "source": [
    "11. Differentiate between a list, tuple, set and dictionary. "
   ]
  },
  {
   "cell_type": "raw",
   "metadata": {},
   "source": [
    "A list is a data structure in Python that is a mutable, or changeable, ordered sequence of elements. Each element or value that is inside of a list is called an item. Just as strings are defined as characters between quotes, lists are defined by having values between square brackets [ ] .\n",
    "\n",
    "A Tuple is a collection of Python objects separated by commas. In someways a tuple is similar to a list in terms of indexing, nested objects and repetition but a tuple is immutable unlike lists which are mutable.\n",
    "\n",
    "A Set is an unordered collection data type that is iterable, mutable and has no duplicate elements. Python’s set class represents the mathematical notion of a set. The major advantage of using a set, as opposed to a list, is that it has a highly optimized method for checking whether a specific element is contained in the set.\n",
    "\n",
    "Dictionaries are Python's implementation of a data structure that is more generally known as an associative array. A dictionary consists of a collection of key-value pairs. Each key-value pair maps the key to its associated value.\n"
   ]
  },
  {
   "cell_type": "markdown",
   "metadata": {},
   "source": [
    "In Python programming, a list is created by placing all the items (elements) inside square brackets [ ], separated by commas.\n",
    "\n",
    "It can have any number of items and they may be of different types (integer, float, string etc.).\n"
   ]
  },
  {
   "cell_type": "code",
   "execution_count": 2,
   "metadata": {},
   "outputs": [
    {
     "name": "stdout",
     "output_type": "stream",
     "text": [
      "['apple', 'banana', 'cherry']\n"
     ]
    }
   ],
   "source": [
    "#list\n",
    "list1 = [\"apple\", \"banana\", \"cherry\"]\n",
    "print(list1)"
   ]
  },
  {
   "cell_type": "code",
   "execution_count": 3,
   "metadata": {},
   "outputs": [
    {
     "name": "stdout",
     "output_type": "stream",
     "text": [
      "('apple', 'banana', 'cherry')\n"
     ]
    }
   ],
   "source": [
    "#tuple\n",
    "tuple1 = (\"apple\", \"banana\", \"cherry\")\n",
    "print(tuple1)"
   ]
  },
  {
   "cell_type": "code",
   "execution_count": 4,
   "metadata": {},
   "outputs": [
    {
     "name": "stdout",
     "output_type": "stream",
     "text": [
      "{'banana', 'cherry', 'apple'}\n"
     ]
    }
   ],
   "source": [
    "#Set\n",
    "set1 = {\"apple\", \"banana\", \"cherry\"}\n",
    "print(set1)"
   ]
  },
  {
   "cell_type": "code",
   "execution_count": 5,
   "metadata": {},
   "outputs": [
    {
     "name": "stdout",
     "output_type": "stream",
     "text": [
      "{'brand': 'Ford', 'model': 'Mustang', 'year': 1964}\n"
     ]
    }
   ],
   "source": [
    "#Dictionary\n",
    "dict1 = {\n",
    "  \"brand\": \"Ford\",\n",
    "  \"model\": \"Mustang\",\n",
    "  \"year\": 1964\n",
    "}\n",
    "print(dict1)"
   ]
  },
  {
   "cell_type": "raw",
   "metadata": {},
   "source": [
    "12. Are strings mutable in python? Suppose you have a string “I+Love+Python”, write a small code to replace ‘+’ with space in python."
   ]
  },
  {
   "cell_type": "markdown",
   "metadata": {},
   "source": [
    "In python, the string data types are immutable. Which means a string value cannot be updated."
   ]
  },
  {
   "cell_type": "code",
   "execution_count": 23,
   "metadata": {},
   "outputs": [
    {
     "name": "stdout",
     "output_type": "stream",
     "text": [
      "I Love Python\n"
     ]
    }
   ],
   "source": [
    "txt = \"I+Love+Python\"\n",
    "\n",
    "x = txt.replace(\"+\", \" \")\n",
    "\n",
    "print(x)"
   ]
  },
  {
   "cell_type": "raw",
   "metadata": {},
   "source": [
    "13. What does the function ord() do in python? Explain with example. Also, write down the function for getting the datatype of a variable in python."
   ]
  },
  {
   "cell_type": "markdown",
   "metadata": {},
   "source": [
    "ord() : This function is used to convert a character to integer."
   ]
  },
  {
   "cell_type": "code",
   "execution_count": 15,
   "metadata": {},
   "outputs": [
    {
     "name": "stdout",
     "output_type": "stream",
     "text": [
      "a\n"
     ]
    },
    {
     "data": {
      "text/plain": [
       "97"
      ]
     },
     "execution_count": 15,
     "metadata": {},
     "output_type": "execute_result"
    }
   ],
   "source": [
    "q = input()\n",
    "ord(q)"
   ]
  },
  {
   "cell_type": "markdown",
   "metadata": {},
   "source": [
    "The function for getting the datatype of a variable in python is type ()."
   ]
  },
  {
   "cell_type": "code",
   "execution_count": 14,
   "metadata": {},
   "outputs": [
    {
     "name": "stdout",
     "output_type": "stream",
     "text": [
      "5\n"
     ]
    },
    {
     "data": {
      "text/plain": [
       "int"
      ]
     },
     "execution_count": 14,
     "metadata": {},
     "output_type": "execute_result"
    }
   ],
   "source": [
    "s=5\n",
    "print(s)\n",
    "type(s)"
   ]
  },
  {
   "cell_type": "raw",
   "metadata": {},
   "source": [
    "14. Write a python program to solve a quadratic equation of the form 𝑎𝑥2 + 𝑏𝑥 + 𝑐 = 0. Where a, b and c are to be taken by user input. Handle the erroneous input, such as ‘a’ should not be equal to 0. "
   ]
  },
  {
   "cell_type": "code",
   "execution_count": 18,
   "metadata": {},
   "outputs": [
    {
     "name": "stdout",
     "output_type": "stream",
     "text": [
      "A :  0\n",
      "B :  2\n",
      "C :  3\n",
      "Please check the input A should not be equal to 0.\n"
     ]
    }
   ],
   "source": [
    "import math\n",
    "from math import sqrt\n",
    "\n",
    "A = int(input(\"A :  \"))\n",
    "\n",
    "B = int(input(\"B :  \"))\n",
    "\n",
    "C = int(input(\"C :  \"))\n",
    "\n",
    "D1 = (B**2-(4*A*C))\n",
    "\n",
    "if (A <= 0):\n",
    "    print(\"Please check the input A should not be equal to 0.\")\n",
    "       \n",
    "elif(D1 < 0):\n",
    "    print(\"Please check the input. Discrement < 0. No real root... discrement = \",D1)\n",
    "    \n",
    "else:\n",
    "    D = sqrt(D1)\n",
    "    \n",
    "    X1 = ((-1)*B+D)/(2*A)\n",
    "\n",
    "    X2 = ((-1)*B-D)/(2*A)\n",
    "\n",
    "    print(\"Solution  is 1 : \",X1)    \n",
    "    print(\"Solution  is 2 : \",X2)\n",
    "        \n",
    "         "
   ]
  },
  {
   "cell_type": "raw",
   "metadata": {},
   "source": [
    "15. Write a python program to find the sum of first ‘n’ natural numbers without using any loop. Ask user to input the value of ‘n’. "
   ]
  },
  {
   "cell_type": "code",
   "execution_count": 11,
   "metadata": {},
   "outputs": [
    {
     "name": "stdout",
     "output_type": "stream",
     "text": [
      "sum of first ‘n’ natural numbers\n",
      "sum of first ‘n’ natural numbers upto :  5\n",
      "sum of first ‘n’ natural numbers upto:    5   is :  15.0\n"
     ]
    }
   ],
   "source": [
    "print(\"sum of first ‘n’ natural numbers\")\n",
    "\n",
    "y = input(\"sum of first ‘n’ natural numbers upto :  \")  #sum of first ‘n’ natural numbers upto:    will be printed before input\n",
    "\n",
    "s=int(y)\n",
    "\n",
    "sum = (s*(s+1))/2\n",
    "\n",
    "print(\"sum of first ‘n’ natural numbers upto:   \",s,\"  is : \",sum)"
   ]
  },
  {
   "cell_type": "code",
   "execution_count": null,
   "metadata": {},
   "outputs": [],
   "source": []
  }
 ],
 "metadata": {
  "kernelspec": {
   "display_name": "Python 3",
   "language": "python",
   "name": "python3"
  },
  "language_info": {
   "codemirror_mode": {
    "name": "ipython",
    "version": 3
   },
   "file_extension": ".py",
   "mimetype": "text/x-python",
   "name": "python",
   "nbconvert_exporter": "python",
   "pygments_lexer": "ipython3",
   "version": "3.7.6"
  }
 },
 "nbformat": 4,
 "nbformat_minor": 4
}
