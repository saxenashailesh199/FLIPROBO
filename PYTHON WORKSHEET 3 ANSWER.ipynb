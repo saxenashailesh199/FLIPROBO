{
 "cells": [
  {
   "cell_type": "markdown",
   "metadata": {},
   "source": [
    "# WORKSHEET 3\n",
    "PYTHON"
   ]
  },
  {
   "cell_type": "markdown",
   "metadata": {},
   "source": [
    "# Q1 to Q8 have only one correct answer. Choose the correct option to answer your question."
   ]
  },
  {
   "cell_type": "raw",
   "metadata": {},
   "source": [
    "1. Which of the following will raise a value error in python?\n",
    "A) int(32) B) int(3.2)\n",
    "C) int(-3.2) D) int(‘32’)\n",
    "ANSWER :-D) int(‘32’)\n",
    "\n",
    "2. What will be the output of round(3.567)?\n",
    "A) 3.5 B) 3.0\n",
    "C) 4 D) 3\n",
    "ANSWER :- C) 4\n",
    "\n",
    "3. How is the function pow(a,b,c) evaluated in python?\n",
    "A) a**b**c B) (a**b)%c\n",
    "C) (a**b)*c D) (a**b)**c\n",
    "ANSWER :- B) (a**b)%c\n",
    "\n",
    "4. What will be the output of print(type(type(int))) in python 3?\n",
    "A) <class ‘type’> B) <type ‘type’>\n",
    "C) <class ‘int’> D) <type ‘int’>\n",
    "ANSWER :- A) <class ‘type’>\n",
    "\n",
    "5. What will be the output of ord(chr(65))?\n",
    "A) ‘A’ B) ‘a’\n",
    "C) 65 D) TypeError\n",
    "ANSWER :- C) 65\n",
    "\n",
    "6. What is called when a function is defined inside a class?\n",
    "A) Module B) Function\n",
    "C) _init_ function D) Method\n",
    "ANSWER :- D) Method\n",
    "\n",
    "7. What will be the output of all([1, 0, 5 ,7])?\n",
    "A) 0 B) False\n",
    "C) True D) error\n",
    "ANSWER :- B) False\n",
    "\n",
    "8. Is the output of the function abs() the same as that of the function math.fabs()?\n",
    "A) Always B) Sometimes\n",
    "C) Never D) None of these\n",
    "ANSWER :- B) Sometimes\n",
    "\n",
    "Q9 and Q10 have multiple correct answers. Choose all the correct options to answer your question.\n",
    "\n",
    "9. Select all correct float numbers in python?\n",
    "A) -68.7e100 B) 42e3\n",
    "C) 4.2038 D) 3.0\n",
    "ANSWER :- A) -68.7e100 B) 42e3\n",
    "C) 4.2038 D) 3.0\n",
    "\n",
    "10. Which of the following is(are) correct statement(s) in python?\n",
    "A) You can pass positional arguments in any order.\n",
    "B) You can pass keyword arguments in any order. \n",
    "C) You can call a function with positional and keyword arguments.\n",
    "D) Positional arguments must be before keyword arguments in a function call\n",
    "ANSWER :- C) You can call a function with positional and keyword arguments.\n",
    "D) Positional arguments must be before keyword arguments in a function call"
   ]
  },
  {
   "cell_type": "code",
   "execution_count": null,
   "metadata": {},
   "outputs": [],
   "source": []
  },
  {
   "cell_type": "code",
   "execution_count": null,
   "metadata": {},
   "outputs": [],
   "source": []
  },
  {
   "cell_type": "markdown",
   "metadata": {},
   "source": [
    "# 11. Write a python function print pyramid of stars. Level of pyramid should be taken as an input from the user."
   ]
  },
  {
   "cell_type": "code",
   "execution_count": 5,
   "metadata": {},
   "outputs": [
    {
     "name": "stdout",
     "output_type": "stream",
     "text": [
      "    * \n",
      "   * * \n",
      "  * * * \n",
      " * * * * \n",
      "* * * * * \n"
     ]
    }
   ],
   "source": [
    "# Function definition \n",
    "def pattern(rows_no): \n",
    "  \n",
    "  \n",
    "    # for loop for printing lower half \n",
    "    for i in range(rows_no , 0, -1):  \n",
    "  \n",
    "        # printing i spaces at the \n",
    "        # beginning of each row \n",
    "        for k in range(1, i): \n",
    "            print(\" \", end = \"\") \n",
    "          \n",
    "        # printing i to rows value \n",
    "        # at the end of each row \n",
    "        for j in range(i, rows_no + 1): \n",
    "            print(\"*\", end = \" \") \n",
    "  \n",
    "        print() \n",
    "      \n",
    "# Driver code \n",
    "  \n",
    "# taking rows value from the user \n",
    "rows_no = 5\n",
    "  \n",
    "pattern(rows_no)"
   ]
  },
  {
   "cell_type": "markdown",
   "metadata": {},
   "source": [
    "# 12. Write a python function print Hourglass pattern"
   ]
  },
  {
   "cell_type": "code",
   "execution_count": 2,
   "metadata": {},
   "outputs": [
    {
     "name": "stdout",
     "output_type": "stream",
     "text": [
      "* * * * * \n",
      " * * * * \n",
      "  * * * \n",
      "   * * \n",
      "    * \n",
      "   * * \n",
      "  * * * \n",
      " * * * * \n",
      "* * * * * \n"
     ]
    }
   ],
   "source": [
    "# Python3 code forr hour glass pattern \n",
    "  \n",
    "# Function definition \n",
    "def pattern(rows_no): \n",
    "  \n",
    "    # for loop for printing upper half\n",
    "    \n",
    "    for i in range(1, rows_no + 1):  \n",
    "  \n",
    "        # printing i spaces at the  \n",
    "        # beginning of each row \n",
    "        for k in range(1, i): \n",
    "            print(\" \", end = \"\") \n",
    "          \n",
    "        # printing i to rows value \n",
    "        # at the end of each row \n",
    "        for j in range(i, rows_no + 1):  \n",
    "            print(\"*\", end = \" \")  \n",
    "  \n",
    "        print() \n",
    "      \n",
    "    # for loop for printing lower half \n",
    "    for i in range(rows_no - 1, 0, -1):  \n",
    "  \n",
    "        # printing i spaces at the \n",
    "        # beginning of each row \n",
    "        for k in range(1, i): \n",
    "            print(\" \", end = \"\") \n",
    "          \n",
    "        # printing i to rows value \n",
    "        # at the end of each row \n",
    "        for j in range(i, rows_no + 1): \n",
    "            print(\"\", end = \" \") \n",
    "  \n",
    "        print() \n",
    "      \n",
    "# Driver code \n",
    "  \n",
    "# taking rows value from the user \n",
    "rows_no = 5\n",
    "  \n",
    "pattern(rows_no)"
   ]
  },
  {
   "cell_type": "markdown",
   "metadata": {},
   "source": [
    "# 13. Write a python function to print Pascal’s Triangle."
   ]
  },
  {
   "cell_type": "code",
   "execution_count": 6,
   "metadata": {},
   "outputs": [
    {
     "name": "stdout",
     "output_type": "stream",
     "text": [
      "Enter number of rows: 5\n",
      "                    1 \n",
      "                 1     1 \n",
      "              1     2     1 \n",
      "           1     3     3     1 \n",
      "        1     4     6     4     1 \n"
     ]
    }
   ],
   "source": [
    "n = int(input(\"Enter number of rows: \"))\n",
    "a = []\n",
    "\n",
    "for i in range(n):\n",
    "    a.append([])\n",
    "    a[i].append(1)\n",
    "\n",
    "    for j in range(1, i):\n",
    "        a[i].append(a[i - 1][j - 1] + a[i - 1][j])\n",
    "    if (n != 0):\n",
    "        a[i].append(1)\n",
    "\n",
    "for i in range(n):\n",
    "    print(\"   \" * (n - i), end = \" \", sep = \" \")\n",
    "\n",
    "    for j in range(0, i + 1):\n",
    "        print('{0:5}'.format(a[i][j]), end = \" \", sep = \" \")\n",
    "    print()"
   ]
  },
  {
   "cell_type": "markdown",
   "metadata": {},
   "source": [
    "# 14. Write a python function to print Diamond Shaped Pattern"
   ]
  },
  {
   "cell_type": "code",
   "execution_count": 7,
   "metadata": {},
   "outputs": [
    {
     "name": "stdout",
     "output_type": "stream",
     "text": [
      "        * \n",
      "       * * \n",
      "      * * * \n",
      "     * * * * \n",
      "    * * * * * \n",
      "   * * * * * * \n",
      "    * * * * * \n",
      "     * * * * \n",
      "      * * * \n",
      "       * * \n",
      "        * \n"
     ]
    }
   ],
   "source": [
    "rows = 5\n",
    "k = 2 * rows - 2\n",
    "for i in range(0, rows):\n",
    "    for j in range(0, k):\n",
    "        print(end=\" \")\n",
    "    k = k - 1\n",
    "    for j in range(0, i + 1):\n",
    "        print(\"* \", end=\"\")\n",
    "    print(\"\")\n",
    "    \n",
    "k = rows - 2\n",
    "\n",
    "for i in range(rows, -1, -1):\n",
    "    for j in range(k, 0, -1):\n",
    "        print(end=\" \")\n",
    "    k = k + 1\n",
    "    for j in range(0, i + 1):\n",
    "        print(\"* \", end=\"\")\n",
    "    print(\"\")"
   ]
  },
  {
   "cell_type": "markdown",
   "metadata": {},
   "source": [
    "# 15. Write a python function to print Diamond Shaped Character Pattern shown below. Function must take integer input within range 1 to 26, which represents the rank of alphabet."
   ]
  },
  {
   "cell_type": "code",
   "execution_count": null,
   "metadata": {},
   "outputs": [],
   "source": []
  }
 ],
 "metadata": {
  "kernelspec": {
   "display_name": "Python 3",
   "language": "python",
   "name": "python3"
  },
  "language_info": {
   "codemirror_mode": {
    "name": "ipython",
    "version": 3
   },
   "file_extension": ".py",
   "mimetype": "text/x-python",
   "name": "python",
   "nbconvert_exporter": "python",
   "pygments_lexer": "ipython3",
   "version": "3.7.6"
  }
 },
 "nbformat": 4,
 "nbformat_minor": 4
}
