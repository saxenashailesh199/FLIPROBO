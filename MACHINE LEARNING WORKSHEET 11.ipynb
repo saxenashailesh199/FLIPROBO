{
 "cells": [
  {
   "cell_type": "markdown",
   "metadata": {},
   "source": [
    "# WORKSHEET\n",
    "MACHINE LEARNING – WORKSHEET 11\n",
    "(LINEAR REGRESSION)\n",
    "\n"
   ]
  },
  {
   "cell_type": "markdown",
   "metadata": {},
   "source": [
    "# In Q1 to Q8, only one option is correct, Choose the correct option:"
   ]
  },
  {
   "cell_type": "raw",
   "metadata": {},
   "source": [
    "1. What happens to R2 measure if we add a new feature?\n",
    "A) remains same B) always increases\n",
    "C) may or may not increase D) always decreases\n"
   ]
  },
  {
   "cell_type": "markdown",
   "metadata": {},
   "source": [
    "C) may or may not increase"
   ]
  },
  {
   "cell_type": "raw",
   "metadata": {},
   "source": [
    "2. The correct relationship between SST, SSR and SSE is given by:\n",
    "A) SSR = SST + SSE B) SST = SSR + SSE\n",
    "C) SSE = SSR – SST D) None of the above"
   ]
  },
  {
   "cell_type": "markdown",
   "metadata": {},
   "source": [
    "B) SST = SSR + SSE"
   ]
  },
  {
   "cell_type": "raw",
   "metadata": {},
   "source": [
    "3. Residuals in regression analysis can be defined as:\n",
    "A) difference between the actual value and the predicted value.\n",
    "B) difference between the actual value and the mean of predicted value.\n",
    "C) difference between the actual value and mean of dependent variable.\n",
    "D) None of the above.\n"
   ]
  },
  {
   "cell_type": "markdown",
   "metadata": {},
   "source": [
    "A) difference between the actual value and the predicted value."
   ]
  },
  {
   "cell_type": "raw",
   "metadata": {},
   "source": [
    "4. In a simple linear regression model, if we change the input variable by 1 unit, then how much output variable will change?\n",
    "A) By 1 B) No Change\n",
    "C) By its slope D) None of the above\n"
   ]
  },
  {
   "cell_type": "markdown",
   "metadata": {},
   "source": [
    "C) By its slope"
   ]
  },
  {
   "cell_type": "raw",
   "metadata": {},
   "source": [
    "5. If the coefficient of determination is equal to 1, then correlation coefficient:\n",
    "A) must also be equal to 1 B) can be either -1 or 1\n",
    "C) can be any value between -1 to 1 D) must be -1\n"
   ]
  },
  {
   "cell_type": "markdown",
   "metadata": {},
   "source": [
    "B) can be either -1 or 1"
   ]
  },
  {
   "cell_type": "raw",
   "metadata": {},
   "source": [
    "6. Which of the following plot is best suited for the linear relationship of continuous variables?\n",
    "A) Scatter plot B) Histograms\n",
    "C) Pie charts D) All of the above\n"
   ]
  },
  {
   "cell_type": "markdown",
   "metadata": {},
   "source": [
    "A) Scatter plot"
   ]
  },
  {
   "cell_type": "raw",
   "metadata": {},
   "source": [
    "7. The ratio of MSR/MSE produces:\n",
    "A) t-statistics B) f-statistics\n",
    "C) z-statistics D) None of the above."
   ]
  },
  {
   "cell_type": "markdown",
   "metadata": {},
   "source": [
    "B) f-statistics"
   ]
  },
  {
   "cell_type": "raw",
   "metadata": {},
   "source": [
    "8. Which of the following regularizations uses only L2 normalization for its penalty parameter?\n",
    "A) Lasso B) Elastic Nets\n",
    "C) Ridge D) All of the above\n"
   ]
  },
  {
   "cell_type": "markdown",
   "metadata": {},
   "source": [
    "A) Lasso"
   ]
  },
  {
   "cell_type": "markdown",
   "metadata": {},
   "source": [
    "# In Q9 to Q11, more than one options are correct, Choose all the correct options:"
   ]
  },
  {
   "cell_type": "markdown",
   "metadata": {},
   "source": [
    "9. Which of the following statement/s are true for best fitted line?\n",
    "A) It shows the causal relationship between dependent and independent variables\n",
    "B) It shows the positive or negative relation between dependent and independent variables\n",
    "C) It always goes through origin\n",
    "D) It is a straight line that is the best approximation of the given data sets\n"
   ]
  },
  {
   "cell_type": "raw",
   "metadata": {},
   "source": [
    "A) It shows the causal relationship between dependent and independent variables\n",
    "D) It is a straight line that is the best approximation of the given data sets"
   ]
  },
  {
   "cell_type": "raw",
   "metadata": {},
   "source": [
    "10. Regularizations helps in:\n",
    "A) Reducing the training time B) Generalizing the test set\n",
    "C) Automatic feature selection D) Grouping the data\n"
   ]
  },
  {
   "cell_type": "raw",
   "metadata": {},
   "source": [
    "A) Reducing the training time \n",
    "C) Automatic feature selection D) Grouping the data"
   ]
  },
  {
   "cell_type": "raw",
   "metadata": {},
   "source": [
    "11. Linear regression can be implemented through:\n",
    "A) Normal Equation B) Singular Value Decomposition\n",
    "C) Parity checks D) nodes\n"
   ]
  },
  {
   "cell_type": "raw",
   "metadata": {},
   "source": [
    "A) Normal Equation B) Singular Value Decomposition"
   ]
  },
  {
   "cell_type": "markdown",
   "metadata": {},
   "source": [
    "# Q12 to Q15 are subjective answer type questions, Answer them briefly."
   ]
  },
  {
   "cell_type": "markdown",
   "metadata": {},
   "source": [
    "\n",
    "12. Explain R2 and adjusted R2 metrics?"
   ]
  },
  {
   "cell_type": "raw",
   "metadata": {},
   "source": [
    "R² Error: Coefficient of Determination or R² is another metric used for evaluating the performance of a regression model. The metric helps us to compare our current model with a constant baseline and tells us how much our model is better. The constant baseline is chosen by taking the mean of the data and drawing a line at the mean. R² is a scale-free score that implies it doesn't matter whether the values are too large or too small, the R² will always be less than or equal to 1.\n",
    "\n",
    "\n",
    "Adjusted R²: Adjusted R² depicts the same meaning as R² but is an improvement of it. R² suffers from the problem that the scores improve on increasing terms even though the model is not improving which may misguide the researcher. Adjusted R² is always lower than R² as it adjusts for the increasing predictors and only shows improvement if there is a real improvement"
   ]
  },
  {
   "cell_type": "markdown",
   "metadata": {},
   "source": [
    "13. Explain the cost function of linear regression?\n"
   ]
  },
  {
   "cell_type": "raw",
   "metadata": {},
   "source": [
    "A Cost Function is a measure of how wrong the model is in terms of its ability to estimate the relationship between X and y. This is typically expressed as a difference or distance between the predicted value and the actual value.\n",
    "\n",
    "The objective of a ML model, therefore, is to find parameters, weights or a structure that minimises the cost function."
   ]
  },
  {
   "cell_type": "markdown",
   "metadata": {},
   "source": [
    "14. Differentiate SSE, SSR and SST.\n"
   ]
  },
  {
   "cell_type": "raw",
   "metadata": {},
   "source": [
    "The sum of squares total, denoted SST, is the squared differences between the observed dependent variable and its mean.\n",
    "It is a measure of the total variability of the dataset.\n",
    "\n",
    "Side note: There is another notation for the SST. It is TSS or total sum of squares.\n",
    "\n",
    "The second term is the sum of squares due to regression, or SSR. It is the sum of the differences between the predicted value and the mean of the dependent variable.\n",
    "SSR is equal to the sum of squares total, it means our regression model captures all the observed variability and is perfect. Once again, we have to mention that another common notation is ESS or explained sum of squares.\n",
    "\n",
    "The last term is the sum of squares error, or SSE. The error is the difference between the observed value and the predicted value.\n",
    "\n",
    "    \n"
   ]
  },
  {
   "cell_type": "markdown",
   "metadata": {},
   "source": [
    "15. What are the various evaluation metrics for linear regression?"
   ]
  },
  {
   "cell_type": "raw",
   "metadata": {},
   "source": [
    "Mean Squared Error(MSE)\n",
    "Root-Mean-Squared-Error(RMSE).\n",
    "Mean-Absolute-Error(MAE).\n",
    "R² or Coefficient of Determination.\n",
    "Adjusted R²"
   ]
  },
  {
   "cell_type": "code",
   "execution_count": null,
   "metadata": {},
   "outputs": [],
   "source": []
  }
 ],
 "metadata": {
  "kernelspec": {
   "display_name": "Python 3",
   "language": "python",
   "name": "python3"
  },
  "language_info": {
   "codemirror_mode": {
    "name": "ipython",
    "version": 3
   },
   "file_extension": ".py",
   "mimetype": "text/x-python",
   "name": "python",
   "nbconvert_exporter": "python",
   "pygments_lexer": "ipython3",
   "version": "3.7.6"
  }
 },
 "nbformat": 4,
 "nbformat_minor": 4
}
