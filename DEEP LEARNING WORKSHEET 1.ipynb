{
 "cells": [
  {
   "cell_type": "markdown",
   "metadata": {},
   "source": [
    "# WORKSHEET-1\n",
    "DEEP LEARNING"
   ]
  },
  {
   "cell_type": "markdown",
   "metadata": {},
   "source": [
    "# Q1 to Q8 are MCQs with only one correct answer. Choose the correct option."
   ]
  },
  {
   "cell_type": "raw",
   "metadata": {},
   "source": [
    "1. Which of the following can approximate any function universally (i.e. universal approximators)?\n",
    "A) Boosted Decision Trees B) Neural Networks\n",
    "C) Kernel SVM D) All of the above"
   ]
  },
  {
   "cell_type": "markdown",
   "metadata": {},
   "source": [
    " B) Neural Networks"
   ]
  },
  {
   "cell_type": "raw",
   "metadata": {},
   "source": [
    "2. In which of the following domains we cannot use neural networks?\n",
    "A) Image Processing B) Speech Processing\n",
    "C) Fraud Detection D) None of the above\n"
   ]
  },
  {
   "cell_type": "markdown",
   "metadata": {},
   "source": [
    "C) Fraud Detection"
   ]
  },
  {
   "cell_type": "raw",
   "metadata": {},
   "source": [
    "3. Rearrange the following steps of a gradient descent algorithm in correct order of their occurrence?\n",
    "i. Initialize random weight and bias\n",
    "ii. Repeat the process until you find the best weights of network\n",
    "iii. Change weights and biases for each neuron to reduce the error\n",
    "iv. Calculate error distances between the actual and the predicted value\n",
    "v. Pass an input through the network and get values from output layer\n",
    "Choose the correct option:\n",
    "A) iv – i – iii – v – ii B) v – i – iii – iv –ii\n",
    "C) i – v – iv – iii – ii D) i – v – iii –iv –ii"
   ]
  },
  {
   "cell_type": "markdown",
   "metadata": {},
   "source": [
    " B) v – i – iii – iv –ii"
   ]
  },
  {
   "cell_type": "raw",
   "metadata": {},
   "source": [
    "4. What is the full form of RNN?\n",
    "A) Recurrent Neural Network B) Recursive Neural Network\n",
    "C) Redundant Neural Network D) Resurrection Neural Network"
   ]
  },
  {
   "cell_type": "markdown",
   "metadata": {},
   "source": [
    "A) Recurrent Neural Network"
   ]
  },
  {
   "cell_type": "raw",
   "metadata": {},
   "source": [
    "5. What is plasticity in neural networks?\n",
    "A) input pattern keeps on changing B) input pattern has become static\n",
    "C) output pattern keeps on changing D) output is static\n"
   ]
  },
  {
   "cell_type": "markdown",
   "metadata": {},
   "source": [
    "A) input pattern keeps on changing"
   ]
  },
  {
   "cell_type": "raw",
   "metadata": {},
   "source": [
    "6. What is stability plasticity dilemma?\n",
    "A) system can neither be stable nor plastic\n",
    "B) static inputs & categorization can’t be handled\n",
    "C) dynamic inputs & categorization can’t be handled\n",
    "D) none of the above"
   ]
  },
  {
   "cell_type": "code",
   "execution_count": null,
   "metadata": {},
   "outputs": [],
   "source": []
  },
  {
   "cell_type": "raw",
   "metadata": {},
   "source": [
    "7. Read the following statements:\n",
    "Statement 1: It is possible to train a network well by initializing all the weights as 0\n",
    "Statement 2: It is possible to train a network well by initializing biases as 0\n",
    "Which of the statements given above is true, Choose the correct option?\n",
    "A) Statement 1 is true while Statement 2 is false\n",
    "B) Statement 2 is true while statement 1 is false\n",
    "C) Both statements are true\n",
    "D) Both statements are false"
   ]
  },
  {
   "cell_type": "code",
   "execution_count": null,
   "metadata": {},
   "outputs": [],
   "source": []
  },
  {
   "cell_type": "raw",
   "metadata": {},
   "source": [
    "8. Which of the following architecture has feedback connections?\n",
    "A) Recurrent Neural network B) Convolutional Neural Network\n",
    "C) Restricted Boltzmann Machine D) simple Artificial Neural Network\n"
   ]
  },
  {
   "cell_type": "markdown",
   "metadata": {},
   "source": [
    "D) simple Artificial Neural Network"
   ]
  },
  {
   "cell_type": "markdown",
   "metadata": {},
   "source": [
    "# Q9 and Q10 are MCQs with one or more correct answers. Choose all the correct options."
   ]
  },
  {
   "cell_type": "raw",
   "metadata": {},
   "source": [
    "9. In training a neural network, you notice that the loss does not decrease in the few starting epochs. The reason behind it could be\n",
    "A) Learning Rate is low B) Regularisation parameter is high\n",
    "C) Regularisation parameter is low D) Stuck at local minima"
   ]
  },
  {
   "cell_type": "markdown",
   "metadata": {},
   "source": [
    "A) Learning Rate is low\n",
    "B) Regularisation parameter is high"
   ]
  },
  {
   "cell_type": "raw",
   "metadata": {},
   "source": [
    "10. Which of the following function(s) can be used to impart non – linearity in a neural network?\n",
    "A) Stochastic Gradient Descent B) Rectified Linear Unit\n",
    "C) Convolution Function D) Sigmoid Function"
   ]
  },
  {
   "cell_type": "markdown",
   "metadata": {},
   "source": [
    "B) Rectified Linear Unit"
   ]
  },
  {
   "cell_type": "markdown",
   "metadata": {},
   "source": [
    "# Q11 to Q15 are subjective answer type question. Answer them briefly."
   ]
  },
  {
   "cell_type": "raw",
   "metadata": {},
   "source": [
    "11. What is Deep Learning?\n"
   ]
  },
  {
   "cell_type": "markdown",
   "metadata": {},
   "source": [
    "A neural network’s primary function is to receive a set of inputs, perform progressively complex computations, and then use the output to solve the problem. Neural networks are used for lot of different applications, one example would be classification. There are lots of classifiers available today such as logistic regression, support vector machine, decision trees, random forest and so on and of course neural networks.\n",
    "\n",
    "For example, say we needed to predict if a person is healthy or sick. All you have are some input information such as height, weight, body temperature of each person, there is a need to classify / predict if a person is sick or healthy is a classification problem and it can be solved using approaches such as neural networks. The classifier would receive the data about the patient, process it and give a confidence score. A high score would indicate high confidence that patient is sick and a low score would suggest they are healthy. Score could be probability value of 0 to 1.\n",
    "\n",
    "Neural network is highly structured and comes in layers. First layer is the input layer, last layer is the output layer and all layers in between are referred to as hidden layers. Hence a neural network can be viewed as the result of spinning classifiers together in a layered web."
   ]
  },
  {
   "cell_type": "raw",
   "metadata": {},
   "source": [
    "12. What is reinforcement learning?\n"
   ]
  },
  {
   "cell_type": "markdown",
   "metadata": {},
   "source": [
    "Reinforcement learning is the training of machine learning models to make a sequence of decisions. The agent learns to achieve a goal in an uncertain, potentially complex environment. In reinforcement learning, an artificial intelligence faces a game-like situation. The computer employs trial and error to come up with a solution to the problem. To get the machine to do what the programmer wants, the artificial intelligence gets either rewards or penalties for the actions it performs. Its goal is to maximize the total reward.\n",
    "Although the designer sets the reward policy–that is, the rules of the game–he gives the model no hints or suggestions for how to solve the game. It’s up to the model to figure out how to perform the task to maximize the reward, starting from totally random trials and finishing with sophisticated tactics and superhuman skills. By leveraging the power of search and many trials, reinforcement learning is currently the most effective way to hint machine’s creativity. In contrast to human beings, artificial intelligence can gather experience from thousands of parallel gameplays if a reinforcement learning algorithm is run on a sufficiently powerful computer infrastructure.\n",
    "\n"
   ]
  },
  {
   "cell_type": "raw",
   "metadata": {},
   "source": [
    "13. What Are the Differences Between Machine Learning and Deep Learning?\n"
   ]
  },
  {
   "cell_type": "markdown",
   "metadata": {},
   "source": [
    "Deep Learning is a branch of machine learning based on a set of algorithms that attempt to model high level and hierarchical representation in data using deep graph with multiple processing layers, multiple linear and non-linear transformations.\n",
    "\n",
    "In Machine Learning (ML), basic process flow is from “Input” to “hand designed features” to “mapping from features” to “output”. In Representation Learning (RL), basic process flow is from “Input” to “features” to “mapping from features” to “output”. In Deep Learning (DL), basic process flow is from “Input” to “ simple features” to “more layers of abstract  features” to “mapping from features” to “output”."
   ]
  },
  {
   "cell_type": "raw",
   "metadata": {},
   "source": [
    "14. What is a perceptron?\n"
   ]
  },
  {
   "cell_type": "markdown",
   "metadata": {},
   "source": [
    "In machine learning, the perceptron is an algorithm for supervised learning of binary classifiers. A binary classifier is a function which can decide whether or not an input, represented by a vector of numbers, belongs to some specific class.\n",
    "\n",
    "A neural network, which is made up of perceptrons, can be perceived as a complex logical statement (neural network) made up of very simple logical statements (perceptrons); of “AND” and “OR” statements. A statement can only be true or false, but never both at the same time.\n",
    "summing up the weighted inputs (product of each input from the previous layer multiplied by their weight), and adding a bias (value hidden in the circle), will produce a weighted net sum. The inputs can either come from the input layer or perceptrons in a previous layer. The weighted net sum is then applied to an activation function which then standardizes the value, producing an output of 0 or 1. This decision made by the perceptron is then passed onto the next layer for the next perceptron to use in their decision.\n",
    "Together, these pieces make up a single perceptron in a layer of a neural network. These perceptrons work together to classify or predict inputs successfully, by passing on whether the feature it sees is present (1) or is not (0). The perceptrons are essentially messengers, passing on the ratio of features that correlate with the classification vs the total number of features that the classification has. "
   ]
  },
  {
   "cell_type": "raw",
   "metadata": {},
   "source": [
    "15. What’s the difference between AI and ML?"
   ]
  },
  {
   "cell_type": "markdown",
   "metadata": {},
   "source": [
    "Artificial Intelligence\n",
    "\n",
    "Artificial intelligence is a technology which enables a machine to simulate human behavior.\n",
    "\n",
    "The goal of AI is to make a smart computer system like humans to solve complex problems.\n",
    "\n",
    "In AI, we make intelligent systems to perform any task like a human.\n",
    "\n",
    "Machine learning and deep learning are the two main subsets of AI.\n",
    "\n",
    "AI has a very wide range of scope.\n",
    "\n",
    "AI is working to create an intelligent system which can perform various complex tasks.\n",
    "\n",
    "AI system is concerned about maximizing the chances of success.\n",
    "\n",
    "The main applications of AI are Siri, customer support using catboats, Expert System, Online game playing, intelligent humanoid robot, etc.\n",
    "\n",
    "On the basis of capabilities, AI can be divided into three types, which are, Weak AI, General AI, and Strong AI.\n",
    "\n",
    "It includes learning, reasoning, and self-correction.\n",
    "\n",
    "AI completely deals with Structured, semi-structured, and unstructured data."
   ]
  },
  {
   "cell_type": "markdown",
   "metadata": {},
   "source": [
    "Machine learning\n",
    "\n",
    "Machine learning is a subset of AI which allows a machine to automatically learn from past data without programming explicitly.\n",
    "\n",
    "The goal of ML is to allow machines to learn from data so that they can give accurate output.\n",
    "\n",
    "In ML, we teach machines with data to perform a particular task and give an accurate result.\n",
    "\n",
    "Machine learning and deep learning are the two main subsets of AI.\tDeep learning is a main subset of machine learning.\n",
    "\n",
    "Machine learning has a limited scope.\n",
    "\n",
    "Machine learning is working to create machines that can perform only those specific tasks for which they are trained.\n",
    "\n",
    "Machine learning is mainly concerned about accuracy and patterns.\n",
    "\n",
    "The main applications of machine learning are Online recommender system, Google search algorithms, Facebook auto friend tagging suggestions, etc.\n",
    "\n",
    "Machine learning can also be divided into mainly three types that are Supervised learning, Unsupervised learning, and Reinforcement learning.\n",
    "\n",
    "It includes learning, reasoning, and self-correction.\n",
    "\n",
    "It includes learning and self-correction when introduced with new data.\n",
    "\n",
    "Machine learning deals with Structured and semi-structured data."
   ]
  },
  {
   "cell_type": "code",
   "execution_count": null,
   "metadata": {},
   "outputs": [],
   "source": []
  }
 ],
 "metadata": {
  "kernelspec": {
   "display_name": "Python 3",
   "language": "python",
   "name": "python3"
  },
  "language_info": {
   "codemirror_mode": {
    "name": "ipython",
    "version": 3
   },
   "file_extension": ".py",
   "mimetype": "text/x-python",
   "name": "python",
   "nbconvert_exporter": "python",
   "pygments_lexer": "ipython3",
   "version": "3.7.6"
  }
 },
 "nbformat": 4,
 "nbformat_minor": 4
}
