{
 "cells": [
  {
   "cell_type": "markdown",
   "metadata": {},
   "source": [
    "# WEB SCRAPING – WORKSHEET 4"
   ]
  },
  {
   "cell_type": "raw",
   "metadata": {},
   "source": [
    "In Q1 to Q14 have one or more than one correct options, Choose all the correct options:\n",
    "\n",
    "1. Which of the following functions can be used to get an element from webpage when we know the Name attribute of the element?\n",
    "A) get_by_name() B) get_element_by_name()\n",
    "C) find_element_by_name() D) None of the above"
   ]
  },
  {
   "cell_type": "markdown",
   "metadata": {},
   "source": [
    "C) find_element_by_name()"
   ]
  },
  {
   "cell_type": "raw",
   "metadata": {},
   "source": [
    "2. Which of the following functions can be used when you want to locate an element by tag name?\n",
    "A) get_elements_by_tagid() B) get_element_by_tagsid()\n",
    "C) find_element_by_tag_name() D) All of the above\n"
   ]
  },
  {
   "cell_type": "markdown",
   "metadata": {},
   "source": [
    "C) find_element_by_tag_name()"
   ]
  },
  {
   "cell_type": "raw",
   "metadata": {},
   "source": [
    "3. In what type of Waits, a WebDriver waits for a certain condition to occur before proceeding further with execution.\n",
    "A) Implicit wait B) Explicit wait\n",
    "C) Both of them D) None of them\n"
   ]
  },
  {
   "cell_type": "markdown",
   "metadata": {},
   "source": [
    "C) Both of them"
   ]
  },
  {
   "cell_type": "raw",
   "metadata": {},
   "source": [
    "4. Which of the following is an expected condition in selenium (python)?\n",
    "A) title_is B) visibility_of\n",
    "C) staleness_of D) All of the above\n"
   ]
  },
  {
   "cell_type": "markdown",
   "metadata": {},
   "source": [
    " D) All of the above"
   ]
  },
  {
   "cell_type": "raw",
   "metadata": {},
   "source": [
    "5. Which of the following is a disadvantage of html5lib parser in beautiful soup?\n",
    "A) External C dependency B) Very Slow\n",
    "C) External Pyhton Dependency D) all of the above\n"
   ]
  },
  {
   "cell_type": "markdown",
   "metadata": {},
   "source": [
    "B) Very Slow\n",
    "C) External Pyhton Dependency"
   ]
  },
  {
   "cell_type": "raw",
   "metadata": {},
   "source": [
    "6. What are the advantages of using Scrapy over Selenium for web-scraping?\n",
    "A) For large data Scrapy is faster than selenium\n",
    "B) It supports javascript better than Selenium\n",
    "C) Scrapy is better than Selenium for simple projects\n",
    "D) All of the above\n"
   ]
  },
  {
   "cell_type": "markdown",
   "metadata": {},
   "source": [
    "A) For large data Scrapy is faster than selenium"
   ]
  },
  {
   "cell_type": "raw",
   "metadata": {},
   "source": [
    "7. Which of the following is (are) true regarding Scrapy?\n",
    "A) spiders are classes which define how a certain site will be scrapped.\n",
    "B) spiders are the place where you define the custom behaviour for crawling.\n",
    "C) None of them\n",
    "D) both A & B\n"
   ]
  },
  {
   "cell_type": "markdown",
   "metadata": {},
   "source": [
    "D) both A & B"
   ]
  },
  {
   "cell_type": "raw",
   "metadata": {},
   "source": [
    "8. Full form of HTML:\n",
    "A) Hyper Text Markup Link B) Hyper Text Mark language\n",
    "C) Hyper Text Markup Language D) Hyper Text Mining Link\n"
   ]
  },
  {
   "cell_type": "markdown",
   "metadata": {},
   "source": [
    "C) Hyper Text Markup Language"
   ]
  },
  {
   "cell_type": "raw",
   "metadata": {},
   "source": [
    "9. Which among the following is the correct syntax for parsing a html page?\n",
    "A) soup=BeautifulSoup(html_doc, html)\n",
    "B) soup=BeautifulSoup(html_doc,’html.parser’)\n",
    "C) soup=BeautifulSoup(html_doc,’html_parser’)\n",
    "D) none of the above\n"
   ]
  },
  {
   "cell_type": "markdown",
   "metadata": {},
   "source": [
    "B) soup=BeautifulSoup(html_doc,’html.parser’)"
   ]
  },
  {
   "cell_type": "raw",
   "metadata": {},
   "source": [
    "10. Which among the following is not a valid parser in BeautifulSoup?\n",
    "A) “lxml” B) “html.parser”\n",
    "C) “lxml-xml\" D) “html-xml”\n"
   ]
  },
  {
   "cell_type": "markdown",
   "metadata": {},
   "source": [
    "D) “html-xml”"
   ]
  },
  {
   "cell_type": "raw",
   "metadata": {},
   "source": [
    "11. Which of the following functions is used to go to the next element in the page?\n",
    "A) findNext_all() B) Find_all()\n",
    "C) find_next() D) None of the above\n"
   ]
  },
  {
   "cell_type": "markdown",
   "metadata": {},
   "source": [
    "C) find_next()"
   ]
  },
  {
   "cell_type": "raw",
   "metadata": {},
   "source": [
    "12. Which of the following functions are used to iterate over an element’s siblings that precede it in the tree?\n",
    "A) find_previous_siblings() B) Get_prev_sibs()\n",
    "C) get_siblings() D) None of the above\n",
    "WORKSHEET\n"
   ]
  },
  {
   "cell_type": "markdown",
   "metadata": {},
   "source": [
    "A) find_previous_siblings()"
   ]
  },
  {
   "cell_type": "raw",
   "metadata": {},
   "source": [
    "13. Which of the following is an argument used in find_all() which tells Beautiful Soup to stop gathering results after it’s found a certain number.\n",
    "A) stop_at B) stop_before\n",
    "C) limit D) None of the above"
   ]
  },
  {
   "cell_type": "markdown",
   "metadata": {},
   "source": [
    "C) limit"
   ]
  },
  {
   "cell_type": "raw",
   "metadata": {},
   "source": [
    "14. How would you set the recursive argument in find_all() if you want Beautiful Soup to consider only the direct children.\n",
    "A) recursive = True B) recursive = False\n",
    "C) recursive argument has no effect D) None of the above\n"
   ]
  },
  {
   "cell_type": "markdown",
   "metadata": {},
   "source": [
    "B) recursive = False"
   ]
  },
  {
   "cell_type": "raw",
   "metadata": {},
   "source": [
    "Q15 is subjective answer type question, Answer it briefly.\n",
    "\n",
    "15. What is the difference between find() and find_all() in Beautiful Soup"
   ]
  },
  {
   "cell_type": "markdown",
   "metadata": {},
   "source": [
    "The find_all() method looks through a tag’s descendants and retrieves all descendants that match your filters.\n",
    "\n",
    "The find_all() method scans the entire document looking for results, but sometimes you only want to find one result. If you know a document only has one body tag, it’s a waste of time to scan the entire document looking for more. Rather than passing in limit=1 every time you call find_all, you can use the find() method.\n",
    "\n",
    "The only difference is that find_all() returns a list containing the single result, and find() just returns the result.\n",
    "\n",
    "If find_all() can’t find anything, it returns an empty list. If find() can’t find anything, it returns None"
   ]
  },
  {
   "cell_type": "code",
   "execution_count": null,
   "metadata": {},
   "outputs": [],
   "source": []
  }
 ],
 "metadata": {
  "kernelspec": {
   "display_name": "Python 3",
   "language": "python",
   "name": "python3"
  },
  "language_info": {
   "codemirror_mode": {
    "name": "ipython",
    "version": 3
   },
   "file_extension": ".py",
   "mimetype": "text/x-python",
   "name": "python",
   "nbconvert_exporter": "python",
   "pygments_lexer": "ipython3",
   "version": "3.7.6"
  }
 },
 "nbformat": 4,
 "nbformat_minor": 4
}
