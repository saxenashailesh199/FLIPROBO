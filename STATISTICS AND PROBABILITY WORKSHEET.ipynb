{
 "cells": [
  {
   "cell_type": "markdown",
   "metadata": {},
   "source": [
    "# STATISTICS AND PROBABILITY WORKSHEET"
   ]
  },
  {
   "cell_type": "raw",
   "metadata": {},
   "source": [
    "\n",
    "1. A die is thrown 1402 times. The frequencies for the outcomes 1, 2, 3, 4, 5 and 6 are given in the following table:\n",
    "Find the probability of getting 6 as outcome:\n",
    "A) 0.34 B) 0.135\n",
    "C) 0.45 D) 0.78\n",
    "2. A telephone directory page has 400 telephone numbers. The frequency distribution of their unit place digit (for example, in the number 25827689, the unit place digit is 9 is given in table below:\n",
    "First row refers to the digits\n",
    "Second row to their frequencies.\n",
    "0\n",
    "1\n",
    "2\n",
    "3\n",
    "4\n",
    "5\n",
    "6\n",
    "7\n",
    "8\n",
    "9\n",
    "44\n",
    "52\n",
    "44\n",
    "44\n",
    "40\n",
    "20\n",
    "28\n",
    "56\n",
    "32\n",
    "40\n",
    "What will be the probability of getting a digit with unit place digit odd number that is 1,3,5,7,9?\n",
    "A)0.67 B) 0.60\n",
    "C) 0.45 D) 0.53\n",
    "3. A tyre manufacturing company which keeps a record of the distance covered before a tyre needed to be replaced. The table below shows the results of 1100 cases.\n",
    "Distance (miles)\n",
    "<4000\n",
    "4000-9000\n",
    "9001-14000\n",
    "<14000\n",
    "Frequency\n",
    "20\n",
    "260\n",
    "375\n",
    "445\n",
    "If we buy a new tyre of this company, what is the probability that the tyre will last more than 9000 miles?\n",
    "A) 0.67 B)0.459\n",
    "C) 0.745 D) 0.73\n",
    "4. please refer to the case and table given in the question No. 3 and determine what is the probability that if we buy a new tyre then it will last in the interval [4000-1400] miles?\n",
    "A) 0.56 B)0.577\n",
    "C) 0.745 D) 0.73\n",
    "5. We have a box containing cards numbered from 0 to 9. We draw a card randomly from the box. If it is told to you that the card drawn is greater than 4 what is the probability that the card is odd?\n",
    "A) 0.5 B) 0.8\n",
    "C) 0.6 D) 0.7\n",
    "6. We have a box containing cards numbered from 1 to 8. We draw a card randomly from the box. If it is told to you that the card drawn is less than 4 what is the probability that the card is even?\n",
    "A) 0.33 B) 0.40\n",
    "C) 0.56 D) 0.89\n",
    "7. A die is thrown twice and the sum of the numbers appearing is observed to be 7. What is the conditional probability that the number 6 has appeared at least on one of the die?\n",
    "A) 0.45 B) 0.37\n",
    "C) 0.33 D) 0.89\n",
    "8. Consider the experiment of tossing a coin. If the coin shows tail, toss it again but if it shows head, then throw a die. Find the conditional probability of the event that ‘the die shows a number greater than 4’ given that ‘there is at least one Head’.\n",
    "A) 0.1 B) 0.22\n",
    "C) 0.38 D) 0.45\n",
    "Outcome\n",
    "1\n",
    "2\n",
    "3\n",
    "4\n",
    "5\n",
    "6\n",
    "Frequency\n",
    "400\n",
    "300\n",
    "157\n",
    "180\n",
    "175\n",
    "190\n",
    "9. There are three persons Evan, Ross and Michelle. These people lined up randomly for a picture. What is the probability of Ross being at one of the ends of the line?\n",
    "A) 0.66 B) 0.45\n",
    "C) 0.23 D) 0.56\n",
    "10. Let us make an assumption that each born child is equally likely to be a boy or a girl. Now suppose If a family has two children, what is the conditional probability that both are girls given that at least one of them is a girl?\n",
    "A) 0.33 B) 0.45\n",
    "C) 0.56 D) 0.26\n",
    "11. Consider the same case as in the question no. 11. It is given that elder child is a boy. What is the conditional probability that both children are boys?\n",
    "A) 0.33 B) 0.23\n",
    "C) 0.5 D) 0.76\n",
    "12. We toss a coin. If we get head, we toss a coin again and if we get tail we throw a die. What is the probability of getting a number greater than 4 on die?\n",
    "A) 0.166 B) 0.34\n",
    "C) 0.78 D)0.34\n",
    "13. We toss a coin. If we get head, we toss a coin again and if we get tail we throw a die. What is the probability of getting an odd number on die?\n",
    "A) 0.345 B) 0.79\n",
    "C) 0.2 D) 0.25\n",
    "14. Suppose we throw two dice together. What is the conditional probability of getting sum of two numbers found on the two die after throwing is less than 4, provided that the two numbers found on the two die are different?\n",
    "A) 0.3 B) 0.56\n",
    "C) 0.24 D) 0.05\n",
    "15. A box contains three coins: two regular coins and one fake two-headed coin, you pick a coin at random and toss it. What is the probability that it lands heads up?\n",
    "A) 1/3 B) 2/3\n",
    "C) 1/2 D) 3/4"
   ]
  },
  {
   "cell_type": "raw",
   "metadata": {},
   "source": [
    "1. A die is thrown 1402 times. The frequencies for the outcomes 1, 2, 3, 4, 5 and 6 are given in the following table:\n",
    "Find the probability of getting 6 as outcome:\n",
    "A) 0.34 B) 0.135\n",
    "C) 0.45 D) 0.78"
   ]
  },
  {
   "cell_type": "markdown",
   "metadata": {},
   "source": [
    "ANSWER::-- B) 0.135"
   ]
  },
  {
   "cell_type": "raw",
   "metadata": {},
   "source": [
    "2. A telephone directory page has 400 telephone numbers. The frequency distribution of their unit place digit (for example, in the number 25827689, the unit place digit is 9 is given in table below:\n",
    "First row refers to the digits\n",
    "Second row to their frequencies.\n",
    "0\n",
    "1\n",
    "2\n",
    "3\n",
    "4\n",
    "5\n",
    "6\n",
    "7\n",
    "8\n",
    "9\n",
    "44\n",
    "52\n",
    "44\n",
    "44\n",
    "40\n",
    "20\n",
    "28\n",
    "56\n",
    "32\n",
    "40\n",
    "What will be the probability of getting a digit with unit place digit odd number that is 1,3,5,7,9?\n",
    "A)0.67 B) 0.60\n",
    "C) 0.45 D) 0.53"
   ]
  },
  {
   "cell_type": "markdown",
   "metadata": {},
   "source": [
    "ANSWER  D) 0.53"
   ]
  },
  {
   "cell_type": "raw",
   "metadata": {},
   "source": [
    "3. A tyre manufacturing company which keeps a record of the distance covered before a tyre needed to be replaced. The table below shows the results of 1100 cases.\n",
    "Distance (miles)\n",
    "<4000\n",
    "4000-9000\n",
    "9001-14000\n",
    "<14000\n",
    "Frequency\n",
    "20\n",
    "260\n",
    "375\n",
    "445\n",
    "If we buy a new tyre of this company, what is the probability that the tyre will last more than 9000 miles?\n",
    "A) 0.67 B)0.459\n",
    "C) 0.745 D) 0.73"
   ]
  },
  {
   "cell_type": "markdown",
   "metadata": {},
   "source": [
    "ANSWER::--  C) 0.745"
   ]
  },
  {
   "cell_type": "raw",
   "metadata": {},
   "source": [
    "4. please refer to the case and table given in the question No. 3 and determine what is the probability that if we buy a new tyre then it will last in the interval [4000-1400] miles?\n",
    "A) 0.56 B)0.577\n",
    "C) 0.745 D) 0.73"
   ]
  },
  {
   "cell_type": "markdown",
   "metadata": {},
   "source": [
    "ANSWER::-- B)0.577"
   ]
  },
  {
   "cell_type": "raw",
   "metadata": {},
   "source": [
    "5. We have a box containing cards numbered from 0 to 9. We draw a card randomly from the box. If it is told to you that the card drawn is greater than 4 what is the probability that the card is odd?\n",
    "A) 0.5 B) 0.8\n",
    "C) 0.6 D) 0.7"
   ]
  },
  {
   "cell_type": "markdown",
   "metadata": {},
   "source": [
    "ANSWER::--C) 0.6"
   ]
  },
  {
   "cell_type": "raw",
   "metadata": {},
   "source": [
    "6. We have a box containing cards numbered from 1 to 8. We draw a card randomly from the box. If it is told to you that the card drawn is less than 4 what is the probability that the card is even?\n",
    "A) 0.33 B) 0.40\n",
    "C) 0.56 D) 0.89"
   ]
  },
  {
   "cell_type": "markdown",
   "metadata": {},
   "source": [
    "ANSWER::-- A) 0.33"
   ]
  },
  {
   "cell_type": "raw",
   "metadata": {},
   "source": [
    "7. A die is thrown twice and the sum of the numbers appearing is observed to be 7. What is the conditional probability that the number 6 has appeared at least on one of the die?\n",
    "A) 0.45 B) 0.37\n",
    "C) 0.33 D) 0.89"
   ]
  },
  {
   "cell_type": "markdown",
   "metadata": {},
   "source": [
    "ANSWER::-- C) 0.33"
   ]
  },
  {
   "cell_type": "raw",
   "metadata": {},
   "source": [
    "8. Consider the experiment of tossing a coin. If the coin shows tail, toss it again but if it shows head, then throw a die. Find the conditional probability of the event that ‘the die shows a number greater than 4’ given that ‘there is at least one Head’.\n",
    "A) 0.1 B) 0.22\n",
    "C) 0.38 D) 0.45"
   ]
  },
  {
   "cell_type": "markdown",
   "metadata": {},
   "source": [
    "ANSWER::-- B) 0.22"
   ]
  },
  {
   "cell_type": "raw",
   "metadata": {},
   "source": [
    "9. There are three persons Evan, Ross and Michelle. These people lined up randomly for a picture. What is the probability of Ross being at one of the ends of the line?\n",
    "A) 0.66 B) 0.45\n",
    "C) 0.23 D) 0.56"
   ]
  },
  {
   "cell_type": "markdown",
   "metadata": {},
   "source": [
    "ANSWER::-- A) 0.66"
   ]
  },
  {
   "cell_type": "raw",
   "metadata": {},
   "source": [
    "10. Let us make an assumption that each born child is equally likely to be a boy or a girl. Now suppose If a family has two children, what is the conditional probability that both are girls given that at least one of them is a girl?\n",
    "A) 0.33 B) 0.45\n",
    "C) 0.56 D) 0.26"
   ]
  },
  {
   "cell_type": "markdown",
   "metadata": {},
   "source": [
    "ANSWER::-- C) 0.56"
   ]
  },
  {
   "cell_type": "raw",
   "metadata": {},
   "source": [
    "11. Consider the same case as in the question no. 11. It is given that elder child is a boy. What is the conditional probability that both children are boys?\n",
    "A) 0.33 B) 0.23\n",
    "C) 0.5 D) 0.76"
   ]
  },
  {
   "cell_type": "markdown",
   "metadata": {},
   "source": [
    "ANSWER::-- C) 0.5"
   ]
  },
  {
   "cell_type": "raw",
   "metadata": {},
   "source": [
    "12. We toss a coin. If we get head, we toss a coin again and if we get tail we throw a die. What is the probability of getting a number greater than 4 on die?\n",
    "A) 0.166 B) 0.34\n",
    "C) 0.78 D)0.34"
   ]
  },
  {
   "cell_type": "markdown",
   "metadata": {},
   "source": [
    "ANSWER::-- A) 0.166"
   ]
  },
  {
   "cell_type": "raw",
   "metadata": {},
   "source": [
    "13. We toss a coin. If we get head, we toss a coin again and if we get tail we throw a die. What is the probability of getting an odd number on die?\n",
    "A) 0.345 B) 0.79\n",
    "C) 0.2 D) 0.25"
   ]
  },
  {
   "cell_type": "markdown",
   "metadata": {},
   "source": [
    "ANSWER::-- D) 0.25"
   ]
  },
  {
   "cell_type": "raw",
   "metadata": {},
   "source": [
    "14. Suppose we throw two dice together. What is the conditional probability of getting sum of two numbers found on the two die after throwing is less than 4, provided that the two numbers found on the two die are different?\n",
    "A) 0.3 B) 0.56\n",
    "C) 0.24 D) 0.05"
   ]
  },
  {
   "cell_type": "markdown",
   "metadata": {},
   "source": [
    "ANSWER::-- D) 0.05"
   ]
  },
  {
   "cell_type": "raw",
   "metadata": {},
   "source": [
    "15. A box contains three coins: two regular coins and one fake two-headed coin, you pick a coin at random and toss it. What is the probability that it lands heads up?\n",
    "A) 1/3 B) 2/3\n",
    "C) 1/2 D) 3/4"
   ]
  },
  {
   "cell_type": "markdown",
   "metadata": {},
   "source": [
    "ANSWER::-- B) 2/3"
   ]
  },
  {
   "cell_type": "code",
   "execution_count": null,
   "metadata": {},
   "outputs": [],
   "source": []
  }
 ],
 "metadata": {
  "kernelspec": {
   "display_name": "Python 3",
   "language": "python",
   "name": "python3"
  },
  "language_info": {
   "codemirror_mode": {
    "name": "ipython",
    "version": 3
   },
   "file_extension": ".py",
   "mimetype": "text/x-python",
   "name": "python",
   "nbconvert_exporter": "python",
   "pygments_lexer": "ipython3",
   "version": "3.7.6"
  }
 },
 "nbformat": 4,
 "nbformat_minor": 4
}
