{
 "cells": [
  {
   "cell_type": "markdown",
   "metadata": {},
   "source": [
    "# WORKSHEET-1\n",
    "SQL"
   ]
  },
  {
   "cell_type": "raw",
   "metadata": {},
   "source": [
    "Q1 and Q2 have one or more correct answer. Choose all the correct option to answer your question.\n",
    "1. Which of the following is/are DDL commands in SQL?\n",
    "A) Create B) Update\n",
    "C) Delete D) ALTER\n",
    "\n",
    "2. Which of the following is/are DML commands in SQL?\n",
    "A) Update B) Delete\n",
    "C) Select D) Drop\n",
    "\n",
    "Q3 to Q10 have only one correct answer. Choose the correct option to answer your question.\n",
    "\n",
    "3. Full form of SQL is:\n",
    "A) Strut querying language B) Structured Query Language\n",
    "C) Simple Query Language D) None of them\n",
    "\n",
    "4. Full form of DDL is:\n",
    "A) Descriptive Designed Language B) Data Definition Language\n",
    "C) Data Descriptive Language D) None of the above.\n",
    "\n",
    "5. DML is:\n",
    "A) Data Manipulation Language B) Data Management Language\n",
    "C) Data Modeling Language D) None of these\n",
    "\n",
    "6. Which of the following statements can be used to create a table with column B int type and C float type?\n",
    "A) Table A (B int, C float) B) Create A (b int, C float)\n",
    "C) Create Table A (B int,C float) D) All of them\n",
    "\n",
    "7. Which of the following statements can be used to add a column D (float type) to the table A created above?\n",
    "A) Table A ( D float) B) Alter Table A ADD COLUMN D float\n",
    "C) Table A( B int, C float, D float) D) None of them\n",
    "\n",
    "8. Which of the following statements can be used to drop the column added in the above question?\n",
    "A) Table A Drop D B) Alter Table A Drop Column D\n",
    "C) Delete D from A D) None of them\n",
    "\n",
    "9. Which of the following statements can be used to change the data type (from float to int ) of the column D of table A created in above questions?\n",
    "A) Table A (D float int) B) Alter Table A Alter Column D int\n",
    "C) Alter Table A D float int D) Alter table A Column D float to int\n",
    "\n",
    "10. Suppose we want to make Column B of Table A as primary key of the table. By which of the following statements we can do it?\n",
    "A) Alter Table A Add Constraint Primary Key B B) Alter table (B primary key)\n",
    "C) Alter Table A Add Primary key B D) None of them\n",
    "\n",
    "Q11 to Q15 are subjective answer type questions, Answer them briefly.\n",
    "11. What is data-warehouse?\n",
    "12. What is the difference between OLTP VS OLAP?\n",
    "13. What are the various characteristics of data-warehouse?\n",
    "14. What is Star-Schema??\n",
    "15. What do you mean by SETL?"
   ]
  },
  {
   "cell_type": "markdown",
   "metadata": {},
   "source": [
    "Q1 and Q2 have one or more correct answer. Choose all the correct option to answer your question."
   ]
  },
  {
   "cell_type": "raw",
   "metadata": {},
   "source": [
    "1. Which of the following is/are DDL commands in SQL?\n",
    "A) Create \n",
    "B) Update\n",
    "C) Delete \n",
    "D) ALTER\n"
   ]
  },
  {
   "cell_type": "markdown",
   "metadata": {},
   "source": [
    "ANSWER:-\n",
    "A) Create \n",
    "C) Delete \n",
    "D) ALTER"
   ]
  },
  {
   "cell_type": "raw",
   "metadata": {},
   "source": [
    "2. Which of the following is/are DML commands in SQL?\n",
    "A) Update \n",
    "B) Delete\n",
    "C) Select \n",
    "D) Drop\n"
   ]
  },
  {
   "cell_type": "markdown",
   "metadata": {},
   "source": [
    "ANSWER:-\n",
    "A) Update \n",
    "B) Delete"
   ]
  },
  {
   "cell_type": "markdown",
   "metadata": {},
   "source": [
    "Q3 to Q10 have only one correct answer. Choose the correct option to answer your question."
   ]
  },
  {
   "cell_type": "raw",
   "metadata": {},
   "source": [
    "3. Full form of SQL is:\n",
    "A) Strut querying language \n",
    "B) Structured Query Language\n",
    "C) Simple Query Language \n",
    "D) None of them\n"
   ]
  },
  {
   "cell_type": "markdown",
   "metadata": {},
   "source": [
    "ANSWER:- B) Structured Query Language"
   ]
  },
  {
   "cell_type": "raw",
   "metadata": {},
   "source": [
    "4. Full form of DDL is:\n",
    "A) Descriptive Designed Language \n",
    "B) Data Definition Language\n",
    "C) Data Descriptive Language \n",
    "D) None of the above.\n"
   ]
  },
  {
   "cell_type": "markdown",
   "metadata": {},
   "source": [
    "ANSWER:- B) Data Definition Language"
   ]
  },
  {
   "cell_type": "raw",
   "metadata": {},
   "source": [
    "5. DML is:\n",
    "A) Data Manipulation Language \n",
    "B) Data Management Language\n",
    "C) Data Modeling Language \n",
    "D) None of these\n"
   ]
  },
  {
   "cell_type": "markdown",
   "metadata": {},
   "source": [
    "ANSWER:- A) Data Manipulation Language"
   ]
  },
  {
   "cell_type": "raw",
   "metadata": {},
   "source": [
    "6. Which of the following statements can be used to create a table with column B int type and C float type?\n",
    "A) Table A (B int, C float) \n",
    "B) Create A (b int, C float)\n",
    "C) Create Table A (B int,C float) \n",
    "D) All of them\n"
   ]
  },
  {
   "cell_type": "markdown",
   "metadata": {},
   "source": [
    "ANSWER:- C) Create Table A (B int,C float)"
   ]
  },
  {
   "cell_type": "raw",
   "metadata": {},
   "source": [
    "7. Which of the following statements can be used to add a column D (float type) to the table A created above?\n",
    "A) Table A ( D float) \n",
    "B) Alter Table A ADD COLUMN D float\n",
    "C) Table A( B int, C float, D float) \n",
    "D) None of them"
   ]
  },
  {
   "cell_type": "markdown",
   "metadata": {},
   "source": [
    "ANSWER:- B) Alter Table A  ADD COLUMN D float"
   ]
  },
  {
   "cell_type": "raw",
   "metadata": {},
   "source": [
    "8. Which of the following statements can be used to drop the column added in the above question?\n",
    "A) Table A Drop D \n",
    "B) Alter Table A Drop Column D\n",
    "C) Delete D from A \n",
    "D) None of them\n"
   ]
  },
  {
   "cell_type": "markdown",
   "metadata": {},
   "source": [
    "ANSWER:- B) Alter Table A Drop Column D"
   ]
  },
  {
   "cell_type": "raw",
   "metadata": {},
   "source": [
    "\n",
    "9. Which of the following statements can be used to change the data type (from float to int ) of the column D of table A created in above questions?\n",
    "A) Table A (D float int) \n",
    "B) Alter Table A Alter Column D int\n",
    "C) Alter Table A D float int \n",
    "D) Alter table A Column D float to int\n"
   ]
  },
  {
   "cell_type": "markdown",
   "metadata": {},
   "source": [
    "ANSWER:- B) Alter Table A Alter Column D int"
   ]
  },
  {
   "cell_type": "raw",
   "metadata": {},
   "source": [
    "10. Suppose we want to make Column B of Table A as primary key of the table. By which of the following statements we can do it?\n",
    "A) Alter Table A Add Constraint Primary Key B \n",
    "B) Alter table (B primary key)\n",
    "C) Alter Table A Add Primary key B \n",
    "D) None of them\n"
   ]
  },
  {
   "cell_type": "markdown",
   "metadata": {},
   "source": [
    "ANSWER:-  C) Alter Table A Add Primary key B "
   ]
  },
  {
   "cell_type": "markdown",
   "metadata": {},
   "source": [
    "Q11 to Q15 are subjective answer type questions, Answer them briefly.\n"
   ]
  },
  {
   "cell_type": "raw",
   "metadata": {},
   "source": [
    "11. What is data-warehouse?"
   ]
  },
  {
   "cell_type": "markdown",
   "metadata": {},
   "source": [
    "ANSWER:- A Database Management System (DBMS) stores data in the form of tables, uses ER model and the goal is ACID properties. For example a DBMS of college has tables for students, faculty, etc.\n",
    "\n",
    "A Data Warehouse is separate from DBMS, it stores huge amount of data, which is typically collected from multiple heterogeneous source like files, DBMS, etc. The goal is to produce statistical results that may help in decision makings. For example, a college might want to see quick different results, like how is the placement of CS students has improved over last 10 years, in terms of salaries, counts, etc.\n",
    "\n",
    "Need of Data Warehouse\n",
    "An ordinary Database can store MBs to GBs of data and that too for a specific purpose. For storing data of TB size, the storage shifted to Data Warehouse. Besides this, a transactional database doesn’t offer itself to analytics. To effectively perform analytics, an organization keeps a central Data Warehouse to closely study its business by organizing, understanding and using its historic data for taking strategic decisions and analyzing trends."
   ]
  },
  {
   "cell_type": "raw",
   "metadata": {},
   "source": [
    "12. What is the difference between OLTP VS OLAP?"
   ]
  },
  {
   "cell_type": "markdown",
   "metadata": {},
   "source": [
    "ANSWER:- What is OLAP?\n",
    "Online Analytical Processing, a category of software tools which provide analysis of data for business decisions. OLAP systems allow users to analyze database information from multiple database systems at one time.\n",
    "\n",
    "The primary objective is data analysis and not data processing.\n",
    "\n",
    "What is OLTP?\n",
    "Online transaction processing shortly known as OLTP supports transaction-oriented applications in a 3-tier architecture. OLTP administers day to day transaction of an organization.\n",
    "\n",
    "The primary objective is data processing and not data analysis\n",
    "\n",
    "Example of OLAP::--\n",
    "Any Datawarehouse system is an OLAP system. Uses of OLAP are as follows\n",
    "\n",
    "A company might compare their mobile phone sales in September with sales in October, then compare those results with another location which may be stored in a sperate database.\n",
    "Amazon analyzes purchases by its customers to come up with a personalized homepage with products which likely interest to their customer.\n",
    "\n",
    "Example of OLTP system::--\n",
    "An example of OLTP system is ATM center. Assume that a couple has a joint account with a bank. One day both simultaneously reach different ATM centers at precisely the same time and want to withdraw total amount present in their bank account.\n",
    "\n",
    "However, the person that completes authentication process first will be able to get money. In this case, OLTP system makes sure that withdrawn amount will be never more than the amount present in the bank. The key to note here is that OLTP systems are optimized for transactional superiority instead data analysis.\n",
    "\n",
    "Other examples of OLTP system are:\n",
    "\n",
    "Online banking\n",
    "Online airline ticket booking\n",
    "Sending a text message\n",
    "Order entry\n",
    "Add a book to shopping cart"
   ]
  },
  {
   "cell_type": "raw",
   "metadata": {},
   "source": [
    "13. What are the various characteristics of data-warehouse?"
   ]
  },
  {
   "cell_type": "markdown",
   "metadata": {},
   "source": [
    "ANSWER:-\n",
    "1)Subject-oriented –\n",
    "A data warehouse is always a subject oriented as it delivers information about a theme instead of organization’s current operations. It can be achieved on specific theme. That means the data warehousing process is proposed to handle with a specific theme which is more defined. These themes can be sales, distributions, marketing etc.\n",
    "\n",
    "A data warehouse never put emphasis only current operations. Instead, it focuses on demonstrating and analysis of data to make various decision. It also delivers an easy and precise demonstration around particular theme by eliminating data which is not required to make the decisions.\n",
    "\n",
    "2)Integrated –\n",
    "It is somewhere same as subject orientation which is made in a reliable format. Integration means founding a shared entity to scale the all similar data from the different databases. The data also required to be resided into various data warehouse in shared and generally granted manner.\n",
    "\n",
    "A data warehouse is built by integrating data from various sources of data such that a mainframe and a relational database. In addition, it must have reliable naming conventions, format and codes. Integration of data warehouse benefits in effective analysis of data. Reliability in naming conventions, column scaling, encoding structure etc. should be confirmed. Integration of data warehouse handles various subject related warehouse.\n",
    "\n",
    "3)Time-Variant –\n",
    "In this data is maintained via different intervals of time such as weekly, monthly, or annually etc. It founds various time limit which are structured between the large datasets and are held in online transaction process (OLTP). The time limits for data warehouse is wide-ranged than that of operational systems. The data resided in data warehouse is predictable with a specific interval of time and delivers information from the historical perspective. It comprises elements of time explicitly or implicitly. Another feature of time-variance is that once data is stored in the data warehouse then it cannot be modified, alter, or updated.\n",
    "\n",
    "4)Non-Volatile –\n",
    "As the name defines the data resided in data warehouse is permanent. It also means that data is not erased or deleted when new data is inserted. It includes the mammoth quantity of data that is inserted into modification between the selected quantity on logical business. It evaluates the analysis within the technologies of warehouse.\n",
    "\n",
    "In this, data is read-only and refreshed at particular intervals. This is beneficial in analysing historical data and in comprehension the functionality. It does not need transaction process, recapture and concurrency control mechanism. Functionalities such as delete, update, and insert that are done in an operational application are lost in data warehouse environment. Two types of data operations done in the data warehouse are:\n",
    "A)Data Loading\n",
    "B)Data Access"
   ]
  },
  {
   "cell_type": "raw",
   "metadata": {},
   "source": [
    "14. What is Star-Schema??"
   ]
  },
  {
   "cell_type": "markdown",
   "metadata": {},
   "source": [
    "ANSWER:-  Star schema is the fundamental schema among the data mart schema and it is simplest. This schema is widely used to develop or build a data warehouse and dimensional data marts. It includes one or more fact tables indexing any number of dimensional tables."
   ]
  },
  {
   "cell_type": "raw",
   "metadata": {},
   "source": [
    "15. What do you mean by SETL?"
   ]
  },
  {
   "cell_type": "markdown",
   "metadata": {},
   "source": [
    "ANSWER:-SETL (SET Language) is a very high-level programming language based on the mathematical theory of sets. It was originally developed by (Jack) Jacob T. Schwartz at the New York University (NYU) Courant Institute of Mathematical Sciences in the late 1960s.SETL provides two basic aggregate data types: unordered sets, and sequences (the latter also called tuples). The elements of sets and tuples can be of any arbitrary type, including sets and tuples themselves."
   ]
  },
  {
   "cell_type": "code",
   "execution_count": null,
   "metadata": {},
   "outputs": [],
   "source": []
  }
 ],
 "metadata": {
  "kernelspec": {
   "display_name": "Python 3",
   "language": "python",
   "name": "python3"
  },
  "language_info": {
   "codemirror_mode": {
    "name": "ipython",
    "version": 3
   },
   "file_extension": ".py",
   "mimetype": "text/x-python",
   "name": "python",
   "nbconvert_exporter": "python",
   "pygments_lexer": "ipython3",
   "version": "3.7.6"
  }
 },
 "nbformat": 4,
 "nbformat_minor": 4
}
